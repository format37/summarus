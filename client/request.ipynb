{
 "cells": [
  {
   "cell_type": "code",
   "execution_count": 1,
   "id": "6370c0cc",
   "metadata": {},
   "outputs": [],
   "source": [
    "import requests\n",
    "import json"
   ]
  },
  {
   "cell_type": "code",
   "execution_count": 2,
   "id": "d7cb9a96",
   "metadata": {
    "scrolled": true
   },
   "outputs": [
    {
     "data": {
      "text/plain": [
       "'Российский пилот частных самолетов Ник Брайан в очередной раз переключил радио на аварийную волну ФАА. Он попытался связаться с диспетчерами аэропорта Денвера, но не смог. Грачи, похоже, улетели, и опустели телефонные. провода. Пилоты-частники болтали между собой, как грачи на. телефонных проводах.'"
      ]
     },
     "execution_count": 2,
     "metadata": {},
     "output_type": "execute_result"
    }
   ],
   "source": [
    "docker_server_address = 'http://192.168.1.23:2800/summarize'\n",
    "\n",
    "with open('init_data.txt') as file:\n",
    "    article_text = file.read()\n",
    "article_text = article_text.replace('\\n','. ')\n",
    "\n",
    "request = {\n",
    "    'in_text':article_text,\n",
    "    'in_max_length':600,\n",
    "    'out_no_repeat_ngram_size':3,\n",
    "    'out_num_beams':5,\n",
    "    'out_top_k':0\n",
    "}\n",
    "request_str = json.dumps(request)\n",
    "r = requests.post(docker_server_address, json=request_str)\n",
    "r.text"
   ]
  }
 ],
 "metadata": {
  "kernelspec": {
   "display_name": "Python 3",
   "language": "python",
   "name": "python3"
  },
  "language_info": {
   "codemirror_mode": {
    "name": "ipython",
    "version": 3
   },
   "file_extension": ".py",
   "mimetype": "text/x-python",
   "name": "python",
   "nbconvert_exporter": "python",
   "pygments_lexer": "ipython3",
   "version": "3.9.2"
  }
 },
 "nbformat": 4,
 "nbformat_minor": 5
}
