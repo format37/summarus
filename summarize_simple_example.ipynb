{
 "cells": [
  {
   "cell_type": "code",
   "execution_count": 1,
   "id": "d587a03d",
   "metadata": {},
   "outputs": [],
   "source": [
    "# https://huggingface.co/IlyaGusev/mbart_ru_sum_gazeta"
   ]
  },
  {
   "cell_type": "code",
   "execution_count": 2,
   "id": "ce225797",
   "metadata": {},
   "outputs": [],
   "source": [
    "#%pip install git+https://github.com/huggingface/transformers.git\n",
    "#%pip install ipywidgets"
   ]
  },
  {
   "cell_type": "code",
   "execution_count": 3,
   "id": "a300f9f0",
   "metadata": {},
   "outputs": [],
   "source": [
    "from transformers import MBartTokenizer, MBartForConditionalGeneration"
   ]
  },
  {
   "cell_type": "code",
   "execution_count": 4,
   "id": "7bf486a5",
   "metadata": {},
   "outputs": [
    {
     "data": {
      "text/plain": [
       "True"
      ]
     },
     "execution_count": 4,
     "metadata": {},
     "output_type": "execute_result"
    }
   ],
   "source": [
    "import torch\n",
    "torch.cuda.is_available()"
   ]
  },
  {
   "cell_type": "code",
   "execution_count": 5,
   "id": "9a158665",
   "metadata": {},
   "outputs": [],
   "source": [
    "model_name = \"IlyaGusev/mbart_ru_sum_gazeta\"\n",
    "device = \"cuda:0\" if torch.cuda.is_available() else \"cpu\"\n",
    "tokenizer = MBartTokenizer.from_pretrained(model_name)\n",
    "model = MBartForConditionalGeneration.from_pretrained(model_name).to(device)"
   ]
  },
  {
   "cell_type": "code",
   "execution_count": 6,
   "id": "f9a5f02f",
   "metadata": {},
   "outputs": [],
   "source": [
    "def summarize(article_text, tokenizer, model, device):    \n",
    "    input_ids = tokenizer.prepare_seq2seq_batch(\n",
    "        [article_text],\n",
    "        src_lang=\"en_XX\", # fairseq training artifact\n",
    "        return_tensors=\"pt\",\n",
    "        padding=\"max_length\",\n",
    "        truncation=True,\n",
    "        max_length=600\n",
    "    ).to(device)[\"input_ids\"]\n",
    "\n",
    "    output_ids = model.generate(\n",
    "        input_ids=input_ids,\n",
    "        max_length=162,\n",
    "        no_repeat_ngram_size=3,\n",
    "        num_beams=10, # 5\n",
    "        top_k=0\n",
    "    )[0]\n",
    "\n",
    "    summary = tokenizer.decode(output_ids, skip_special_tokens=True, clean_up_tokenization_spaces=False)\n",
    "    return summary"
   ]
  },
  {
   "cell_type": "code",
   "execution_count": 7,
   "id": "b404c20e",
   "metadata": {},
   "outputs": [
    {
     "name": "stdout",
     "output_type": "stream",
     "text": [
      " До этого момента Брайан был удивлен и до крайности  озадачен.  Теперь. он начал испытывать страх. Да, он был по-настоящему испуган. До сих пор не. было времени испугаться. Хотелось, чтобы так и  продолжалось.  Теперь  это. стало невозможным. Он  переключил  радио  на  аварийную  волну,  попытался. снова. Никакого результата. Все равно что в Манхэттене набрать по телефону. 911 и услышать автоответчик, сообщающий, что все разъехались  на  уик-энд.. Когда просишь помощи на аварийной волне, всегда получишь нужный ответ..      \"По крайней мере, до сих пор\", - подумал Брайан..      Включил УНИКОМ, по которому пилоты частных самолетов  получали  совет. для  посадки  на  ближайших   маленьких   полосах.   Полная   тишина.   Он. вслушивался...   и  вообще  ни  звука  не  слышал.  Поверить  в  это  было. невозможно. Пилоты-частники всегда  болтали  между  собой,  как  грачи  на. телефонных проводах. Девушка с Пайпера интересовалась  погодой.  Парень  с. Чессны немедленно отбросит копыта, если кто-нибудь не позвонит его жене  и. не скажет, что он еще троих везет к  ужину.  Ребята  из  Лира  требуют  от. подружки в аэропорту Арвада, чтобы передала всей  компашке:  \"Без  паники,. ребята! На пятнадцать минут опаздываем, но в Чикаго на бейсбол поспеете\"..      Ничего этого не было. Грачи, похоже, улетели, и  опустели  телефонные. провода..      Снова переключил на аварийную волну ФАА..      - Денвер, отвечайте! Немедленно отвечайте!! Это рейс N_29. Отвечайте,. черт бы вас всех подрал!.      Ник тронул его за плечо..      - Не надо. Спокойнее, дружок..      - Псы не брешут!  -  в  отчаянии  сказал  Брайан.  -  Это  же  просто. невозможно, что такое происходит! Господи, да что же  стряслось?!  Атомная. война, что ли, ети их мать?!.      - Успокойся, - повторил Ник. - Не выходи из себя, Брайан.  Какие  там. псы не брешут?.      - Да  эти!  Диспетчеры  Денвера!  Вот  этот  пес!  ФАА  -  экстренная. аварийная служба! Вот кто пес! И УНИКОМ, собака, тоже! Да я никогда....      Он щелкнул тумблером..      - На вот, смотри! Это средние волны, понимаешь? Тут станций до хрена,. лезут одна на другую, как кролики... и ничего. - Щелкнул другим тумблером,. повернулся и посмотрел на Ника, на Альберта Косснера, стоявшего вплотную к. нему. - Нет даже радиомаяка... ни единого сигнала..      - И что это означает?.      - Означает, что у  меня  нет  радиосвязи,  нет  навигационного  маяка. Денвера. А приборный щит  показывает,  что  все  в  полной  исправности  и. работает как часики. Полная чушь. Должно быть чушью..      Страшная мысль начала  формироваться  в  его  голове,  всплывая,  как. распухший утопленник на поверхность реки..      - Эй, парнишка, посмотри-ка в иллюминатор. Слева от самолета. Что  ты. там видишь?.      Альберт Косснер заглянул в окно. Долго смотрел..      - Ничего, - сказал он. - Совсем ничего. Вот остатки Скалистых  Гор  и. начало равнин..      - Никаких огней?.      - Нет..      Брайан поднялся на ноги, которые ощущались, как ватные. Долго смотрел. в иллюминатор..      Наконец Ник Хопвелл тихо произнес:.      - Денвер исчез, верно?.      Брайан знал из навигаторских карт и по оборудованию в кабине, что они. сейчас летели менее чем в пятидесяти милях к югу от Денвера... но под ними. простирался лишь бесформенный ландшафт,  который  означал  начало  Великих. Равнин..      - Да, - ответил он. - Денвера нет.\n"
     ]
    }
   ],
   "source": [
    "with open('data/content_a.txt') as file:\n",
    "    article_text = file.read()\n",
    "article_text = article_text.replace('\\n','. ')\n",
    "print(article_text)"
   ]
  },
  {
   "cell_type": "code",
   "execution_count": 8,
   "id": "f57cbc15",
   "metadata": {},
   "outputs": [
    {
     "name": "stderr",
     "output_type": "stream",
     "text": [
      "/home/alex/.local/lib/python3.8/site-packages/transformers/tokenization_utils_base.py:3255: FutureWarning: `prepare_seq2seq_batch` is deprecated and will be removed in version 5 of 🤗 Transformers. Use the regular `__call__` method to prepare your inputs and the tokenizer under the `with_target_tokenizer` context manager to prepare your targets. See the documentation of your specific tokenizer for more details\n",
      "  warnings.warn(\n"
     ]
    },
    {
     "name": "stdout",
     "output_type": "stream",
     "text": [
      "==> В аэропорту Лос-Анджелеса приземлился американский пилот частного самолета Ник Брайан. Он переключил радио на аварийную волну, попытался связаться с диспетчерами, но так и не смог.\n",
      "CPU times: user 1.65 s, sys: 23.4 ms, total: 1.67 s\n",
      "Wall time: 1.7 s\n"
     ]
    }
   ],
   "source": [
    "%time print('==>', summarize(article_text, tokenizer, model, device))"
   ]
  }
 ],
 "metadata": {
  "kernelspec": {
   "display_name": "Python 3",
   "language": "python",
   "name": "python3"
  },
  "language_info": {
   "codemirror_mode": {
    "name": "ipython",
    "version": 3
   },
   "file_extension": ".py",
   "mimetype": "text/x-python",
   "name": "python",
   "nbconvert_exporter": "python",
   "pygments_lexer": "ipython3",
   "version": "3.8.5"
  }
 },
 "nbformat": 4,
 "nbformat_minor": 5
}
